{
 "cells": [
  {
   "cell_type": "markdown",
   "metadata": {
    "toc": true
   },
   "source": [
    "<h1>Table of Contents<span class=\"tocSkip\"></span></h1>\n",
    "<div class=\"toc\"><ul class=\"toc-item\"><li><span><a href=\"#Cycle-d'analyse-des-données\" data-toc-modified-id=\"Cycle-d'analyse-des-données-1\"><span class=\"toc-item-num\">1&nbsp;&nbsp;</span>Cycle d'analyse des données</a></span></li><li><span><a href=\"#Format-.csv\" data-toc-modified-id=\"Format-.csv-2\"><span class=\"toc-item-num\">2&nbsp;&nbsp;</span>Format .csv</a></span></li><li><span><a href=\"#Exploration-des-données\" data-toc-modified-id=\"Exploration-des-données-3\"><span class=\"toc-item-num\">3&nbsp;&nbsp;</span>Exploration des données</a></span><ul class=\"toc-item\"><li><span><a href=\"#Types-de-variables\" data-toc-modified-id=\"Types-de-variables-3.1\"><span class=\"toc-item-num\">3.1&nbsp;&nbsp;</span>Types de variables</a></span></li><li><span><a href=\"#Analyse-préliminaire\" data-toc-modified-id=\"Analyse-préliminaire-3.2\"><span class=\"toc-item-num\">3.2&nbsp;&nbsp;</span>Analyse préliminaire</a></span></li><li><span><a href=\"#Analyse-univariée\" data-toc-modified-id=\"Analyse-univariée-3.3\"><span class=\"toc-item-num\">3.3&nbsp;&nbsp;</span>Analyse univariée</a></span></li><li><span><a href=\"#Analyse-bidimensionnelle\" data-toc-modified-id=\"Analyse-bidimensionnelle-3.4\"><span class=\"toc-item-num\">3.4&nbsp;&nbsp;</span>Analyse bidimensionnelle</a></span></li></ul></li></ul></div>"
   ]
  },
  {
   "cell_type": "markdown",
   "metadata": {},
   "source": [
    "\n",
    "# Introduction à l'analyse des données\n"
   ]
  },
  {
   "cell_type": "markdown",
   "metadata": {},
   "source": [
    "<table>\n",
    "    <tr>\n",
    "        <td><img width=200 src=\"https://upload.wikimedia.org/wikipedia/commons/thumb/5/51/IBM_logo.svg/800px-IBM_logo.svg.png\"></td>\n",
    "        <td><img width=200 src=\"https://skillup.online/_next/static/media/Logo.c31d02e9.svg\"></td>\n",
    "    </tr>\n",
    "<table>\n"
   ]
  },
  {
   "cell_type": "markdown",
   "metadata": {},
   "source": [
    "<div style=\"text-align: right\"><a>par </a><a href=\"https://www.linkedin.com/in/sheriff-data/\">Manuel López Sheriff</a></div>"
   ]
  },
  {
   "cell_type": "markdown",
   "metadata": {
    "toc": true
   },
   "source": [
    "<h1>Table of Contents<span class=\"tocSkip\"></span></h1>\n",
    "<div class=\"toc\"><ul class=\"toc-item\"><li><span><a href=\"#Ciclo-del-análisis-de-datos\" data-toc-modified-id=\"Ciclo-del-análisis-de-datos-1\"><span class=\"toc-item-num\">1&nbsp;&nbsp;</span>Ciclo del análisis de datos</a></span></li><li><span><a href=\"#Cycle-d'analyse-des-données\" data-toc-modified-id=\"Cycle-d'analyse-des-données-2\"><span class=\"toc-item-num\">2&nbsp;&nbsp;</span>Cycle d'analyse des données</a></span></li><li><span><a href=\"#Formato-.csv\" data-toc-modified-id=\"Formato-.csv-3\"><span class=\"toc-item-num\">3&nbsp;&nbsp;</span>Formato .csv</a></span></li><li><span><a href=\"#Format-.csv\" data-toc-modified-id=\"Format-.csv-4\"><span class=\"toc-item-num\">4&nbsp;&nbsp;</span>Format .csv</a></span></li><li><span><a href=\"#Exploración-de-datos\" data-toc-modified-id=\"Exploración-de-datos-5\"><span class=\"toc-item-num\">5&nbsp;&nbsp;</span>Exploración de datos</a></span></li><li><span><a href=\"#Exploration-des-données\" data-toc-modified-id=\"Exploration-des-données-6\"><span class=\"toc-item-num\">6&nbsp;&nbsp;</span>Exploration des données</a></span><ul class=\"toc-item\"><li><span><a href=\"#Tipos-de-variable\" data-toc-modified-id=\"Tipos-de-variable-6.1\"><span class=\"toc-item-num\">6.1&nbsp;&nbsp;</span>Tipos de variable</a></span></li><li><span><a href=\"#Types-de-variables\" data-toc-modified-id=\"Types-de-variables-6.2\"><span class=\"toc-item-num\">6.2&nbsp;&nbsp;</span>Types de variables</a></span></li><li><span><a href=\"#Análisis-preliminar\" data-toc-modified-id=\"Análisis-preliminar-6.3\"><span class=\"toc-item-num\">6.3&nbsp;&nbsp;</span>Análisis preliminar</a></span></li><li><span><a href=\"#Analyse-préliminaire\" data-toc-modified-id=\"Analyse-préliminaire-6.4\"><span class=\"toc-item-num\">6.4&nbsp;&nbsp;</span>Analyse préliminaire</a></span></li><li><span><a href=\"#Análisis-univariante\" data-toc-modified-id=\"Análisis-univariante-6.5\"><span class=\"toc-item-num\">6.5&nbsp;&nbsp;</span>Análisis univariante</a></span></li><li><span><a href=\"#Analyse-univariée\" data-toc-modified-id=\"Analyse-univariée-6.6\"><span class=\"toc-item-num\">6.6&nbsp;&nbsp;</span>Analyse univariée</a></span></li><li><span><a href=\"#Análisis-bidimensional\" data-toc-modified-id=\"Análisis-bidimensional-6.7\"><span class=\"toc-item-num\">6.7&nbsp;&nbsp;</span>Análisis bidimensional</a></span></li><li><span><a href=\"#Analyse-bidimensionnelle\" data-toc-modified-id=\"Analyse-bidimensionnelle-6.8\"><span class=\"toc-item-num\">6.8&nbsp;&nbsp;</span>Analyse bidimensionnelle</a></span></li></ul></li></ul></div>"
   ]
  },
  {
   "cell_type": "markdown",
   "metadata": {},
   "source": [
    "\n",
    "(Plate-forme)\n"
   ]
  },
  {
   "cell_type": "markdown",
   "metadata": {},
   "source": [
    "\n",
    "## Cycle d'analyse des données\n"
   ]
  },
  {
   "cell_type": "markdown",
   "metadata": {},
   "source": [
    "1. Définir un problème\n",
    "2. Collecter des données liées au problème\n",
    "3. Nettoyer et prétraiter les données\n",
    "4. Analyser-les\n",
    "5. Faire des prévisions futures (le cas échéant)\n",
    "6. Présenter vos conclusions"
   ]
  },
  {
   "cell_type": "markdown",
   "metadata": {},
   "source": [
    "<img width=500 src=\"https://miro.medium.com/max/613/1*7jGXomv0dbEa4xjaP97hdQ.png\">"
   ]
  },
  {
   "cell_type": "markdown",
   "metadata": {},
   "source": [
    "\n",
    "## Format .csv\n"
   ]
  },
  {
   "cell_type": "markdown",
   "metadata": {},
   "source": [
    " - **C**omma **S**eparated **V**alues\n",
    " - Données structurées : **lignes et colonnes**\n",
    " - Format texte : peut être ouvert avec un éditeur de texte\n",
    " - Format universel : nous pouvons le charger dans Excel, Python, R, PowerBI, Tableau\n",
    " - Séparateur: `,`, `;`..."
   ]
  },
  {
   "cell_type": "markdown",
   "metadata": {},
   "source": [
    "<img width=200 src=\"https://png.pngtree.com/png-vector/20190330/ourlarge/pngtree-csv-file-document-icon-png-image_897857.jpg\">\n",
    "<table>\n",
    "  <tr>\n",
    "    <td><img width=200 src=\"https://dake.es/wp-content/uploads/2022/09/logo-excel.jpg\"></td>\n",
    "    <td><img width=200 src=\"https://www.python.org/static/community_logos/python-logo-master-v3-TM-flattened.png\"></td>\n",
    "  </tr>\n",
    "  <tr>\n",
    "    <td><img width=200 src=\"https://upload.wikimedia.org/wikipedia/commons/thumb/1/1b/R_logo.svg/2560px-R_logo.svg.png\"></td>\n",
    "    <td><img width=200 src=\"https://aptude.com/wp-content/uploads/2021/11/powerbi_logo-1.png\"></td>\n",
    "  </tr>\n",
    "</table>"
   ]
  },
  {
   "cell_type": "markdown",
   "metadata": {},
   "source": [
    "\n",
    "## Exploration des données\n"
   ]
  },
  {
   "cell_type": "markdown",
   "metadata": {},
   "source": [
    "\n",
    "Nous disposons d'un jeu de données des passagers du Titanic : `titanic.csv`</code>\n"
   ]
  },
  {
   "cell_type": "markdown",
   "metadata": {},
   "source": [
    "<img width=500 src=\"https://upload.wikimedia.org/wikipedia/commons/3/31/TitanicBeken.jpg\">"
   ]
  },
  {
   "cell_type": "code",
   "execution_count": null,
   "metadata": {},
   "outputs": [],
   "source": [
    "import pandas as pd"
   ]
  },
  {
   "cell_type": "code",
   "execution_count": null,
   "metadata": {},
   "outputs": [],
   "source": [
    "df = pd.read_csv(\"./datasets/titanic.csv\")"
   ]
  },
  {
   "cell_type": "code",
   "execution_count": null,
   "metadata": {},
   "outputs": [],
   "source": [
    "df.head()"
   ]
  },
  {
   "cell_type": "markdown",
   "metadata": {},
   "source": [
    "\n",
    "### Types de variables\n"
   ]
  },
  {
   "cell_type": "markdown",
   "metadata": {},
   "source": [
    " - Numérique: quantitatif. Se référant à une propriété quantifiable\n",
    "   - Discret: ne prend qu'un nombre fini de valeurs distinctes (ou alors $\\infty$ dénombrable)\n",
    "   - Continua: peut prendre un nombre infini de valeurs dans un intervalle\n",
    " - Catégoriel: qualitatif. Se référant à une propriété non quantifiable\n",
    "   - Ordinale: il existe une relation d'ordre entre les catégories\n",
    "   - Nominal: décrire des noms, des étiquettes, des catégories... où il n'y a pas de relation d'ordre naturel"
   ]
  },
  {
   "cell_type": "markdown",
   "metadata": {},
   "source": [
    "**Exercice** : ouvrir le jeu de données dans Excel et identifier une variable de chaque type dans le jeu de données du Titanic"
   ]
  },
  {
   "cell_type": "markdown",
   "metadata": {},
   "source": [
    "\n",
    "### Analyse préliminaire\n"
   ]
  },
  {
   "cell_type": "markdown",
   "metadata": {},
   "source": [
    " - Combien de lignes y a-t-il ? \n",
    " - Combien de colonnes y a-t-il ? \n",
    " - Quel type est chaque variable (colonne) ?\n",
    " - Est-ce qu'il y a des valeurs nulles ? "
   ]
  },
  {
   "cell_type": "markdown",
   "metadata": {},
   "source": [
    "\n",
    "### Analyse univariée\n"
   ]
  },
  {
   "cell_type": "markdown",
   "metadata": {},
   "source": [
    "\n",
    "(Posez votre question)\n"
   ]
  },
  {
   "cell_type": "markdown",
   "metadata": {},
   "source": [
    "\n",
    "### Analyse bidimensionnelle\n"
   ]
  },
  {
   "cell_type": "markdown",
   "metadata": {},
   "source": [
    "\n",
    "(Posez votre question)\n"
   ]
  }
 ],
 "metadata": {
  "kernelspec": {
   "display_name": "Python 3",
   "language": "python",
   "name": "python3"
  },
  "language_info": {
   "codemirror_mode": {
    "name": "ipython",
    "version": 3
   },
   "file_extension": ".py",
   "mimetype": "text/x-python",
   "name": "python",
   "nbconvert_exporter": "python",
   "pygments_lexer": "ipython3",
   "version": "3.8.10"
  },
  "toc": {
   "base_numbering": 1,
   "nav_menu": {},
   "number_sections": true,
   "sideBar": true,
   "skip_h1_title": true,
   "title_cell": "Table of Contents",
   "title_sidebar": "Contents",
   "toc_cell": true,
   "toc_position": {},
   "toc_section_display": true,
   "toc_window_display": true
  }
 },
 "nbformat": 4,
 "nbformat_minor": 4
}
