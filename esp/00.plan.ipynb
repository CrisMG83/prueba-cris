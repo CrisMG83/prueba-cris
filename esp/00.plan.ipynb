{
 "cells": [
  {
   "cell_type": "markdown",
   "metadata": {},
   "source": [
    "# Programa de Análisis de Datos"
   ]
  },
  {
   "cell_type": "markdown",
   "metadata": {},
   "source": [
    "<table>\n",
    "    <tr>\n",
    "        <td><img width=200 src=\"https://upload.wikimedia.org/wikipedia/commons/thumb/5/51/IBM_logo.svg/800px-IBM_logo.svg.png\"></td>\n",
    "        <td><img width=200 src=\"https://skillup.online/_next/static/media/Logo.c31d02e9.svg\"></td>\n",
    "    </tr>\n",
    "<table>\n"
   ]
  },
  {
   "cell_type": "markdown",
   "metadata": {},
   "source": [
    "<div style=\"text-align: right\"><a>por </a><a href=\"https://www.linkedin.com/in/sheriff-data/\" target=\"_blank\">Manuel López Sheriff</a></div>"
   ]
  },
  {
   "cell_type": "markdown",
   "metadata": {},
   "source": [
    "Habrá 10 sesiones vídeo de 2 horas:\n",
    " 1. Introducción al Análisis de Datos\n",
    " 2. Estadística\n",
    " 3. Power BI I\n",
    " 4. Power BI II\n",
    " 5. Python I\n",
    " 6. Python II\n",
    " 7. Tableau\n",
    " 8. Capstone Project I\n",
    " 9. Capstone Project II\n",
    " 10. Clausura, casos prácticos, preguntas"
   ]
  },
  {
   "cell_type": "markdown",
   "metadata": {},
   "source": [
    "Las sesiones serán:\n",
    " - prácticas (casos de uso, resolución de ejercicios...)\n",
    " - interactivas (preguntas, encuestas...)\n",
    " - relacionadas con los contenidos del curso"
   ]
  },
  {
   "cell_type": "markdown",
   "metadata": {},
   "source": [
    "Ten una libreta a mano para tomar notas durante la sesión!"
   ]
  },
  {
   "cell_type": "markdown",
   "metadata": {},
   "source": [
    "<img width=300 src=\"https://png.pngtree.com/png-clipart/20210528/ourlarge/pngtree-cartoon-character-learning-notepad-illustration-png-image_3375178.jpg\">"
   ]
  },
  {
   "cell_type": "markdown",
   "metadata": {},
   "source": [
    "Puedes encontrar los contenidos y datasets que utilizaremos en [GitHub](https://github.com/sheriffff/teaching_ibm_skillup_data_analytics). Se actualizan tras cada clase."
   ]
  },
  {
   "cell_type": "markdown",
   "metadata": {},
   "source": [
    "### Jupyter notebook"
   ]
  },
  {
   "cell_type": "markdown",
   "metadata": {},
   "source": [
    "Ésto que ves es un jupyter notebook.\n",
    " - Un híbrido entre Power Point y entorno de programación\n",
    " - Cuyos archivos tienen extensión `.ipynb`\n",
    " - Para verlo, puedes:  \n",
    "   - descargar Python y jupyter  \n",
    "   - verlo (y modificarlo) en [Google Colab](https://colab.research.google.com/?hl=es)  \n",
    "   - verlo en GitHub si ya vive allí\n",
    " - Exportable a `.html`"
   ]
  }
 ],
 "metadata": {
  "kernelspec": {
   "display_name": "Python 3",
   "language": "python",
   "name": "python3"
  },
  "language_info": {
   "codemirror_mode": {
    "name": "ipython",
    "version": 3
   },
   "file_extension": ".py",
   "mimetype": "text/x-python",
   "name": "python",
   "nbconvert_exporter": "python",
   "pygments_lexer": "ipython3",
   "version": "3.8.10"
  },
  "toc": {
   "base_numbering": 1,
   "nav_menu": {},
   "number_sections": false,
   "sideBar": true,
   "skip_h1_title": true,
   "title_cell": "Table of Contents",
   "title_sidebar": "Contents",
   "toc_cell": false,
   "toc_position": {},
   "toc_section_display": true,
   "toc_window_display": true
  }
 },
 "nbformat": 4,
 "nbformat_minor": 4
}
