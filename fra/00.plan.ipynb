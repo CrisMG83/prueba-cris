{
 "cells": [
  {
   "cell_type": "markdown",
   "metadata": {},
   "source": [
    "\n",
    "# Programme d'analyse des données\n"
   ]
  },
  {
   "cell_type": "markdown",
   "metadata": {},
   "source": [
    "<table>\n",
    "    <tr>\n",
    "        <td><img width=200 src=\"https://upload.wikimedia.org/wikipedia/commons/thumb/5/51/IBM_logo.svg/800px-IBM_logo.svg.png\"></td>\n",
    "        <td><img width=200 src=\"https://skillup.online/_next/static/media/Logo.c31d02e9.svg\"></td>\n",
    "    </tr>\n",
    "<table>\n"
   ]
  },
  {
   "cell_type": "markdown",
   "metadata": {},
   "source": [
    "<div style=\"text-align: right\"><a>par </a><a href=\"https://www.linkedin.com/in/sheriff-data/\" target=\"_blank\">Manuel López Sheriff</a></div>"
   ]
  },
  {
   "cell_type": "markdown",
   "metadata": {},
   "source": [
    "Il y aura 10 sessions vidéo de 2 heures:\n",
    " 1. Introduction à l'analyse des données\n",
    " 2. Statistiques\n",
    " 3. Power BI I\n",
    " 4. Power BI II\n",
    " 5. Python I\n",
    " 6. Python II\n",
    " 7. Tableau\n",
    " 8. Capstone Project I\n",
    " 9. Capstone Project II\n",
    " 10. Clôture, études de cas, questions"
   ]
  },
  {
   "cell_type": "markdown",
   "metadata": {},
   "source": [
    "Les sessions seront:\n",
    " - pratique (cas d'utilisation, résolution d'exercices...)\n",
    " - interactif (questions, sondages...)\n",
    " - liées au contenu du cours"
   ]
  },
  {
   "cell_type": "markdown",
   "metadata": {},
   "source": [
    "Gardez un cahier pour prendre des notes pendant la session !"
   ]
  },
  {
   "cell_type": "markdown",
   "metadata": {},
   "source": [
    "<img width=300 src=\"https://png.pngtree.com/png-clipart/20210528/ourlarge/pngtree-cartoon-character-learning-notepad-illustration-png-image_3375178.jpg\">"
   ]
  },
  {
   "cell_type": "markdown",
   "metadata": {},
   "source": [
    "Vous trouverez le contenu et les ensembles de données que nous utiliserons sur [GitHub] (https://github.com/sheriffff/teaching_ibm_skillup_data_analytics). Ils sont mis à jour après chaque cours."
   ]
  },
  {
   "cell_type": "markdown",
   "metadata": {},
   "source": [
    "\n",
    "### Jupyter notebook\n"
   ]
  },
  {
   "cell_type": "markdown",
   "metadata": {},
   "source": [
    "Ce que vous voyez est un carnet de notes jupyter notebook.\n",
    " - Un hybride entre Power Point et un environnement de programmation\n",
    " - Dont les fichiers ont l'extension `.ipynb`\n",
    " - Pour le consulter, vous pouvez:\n",
    "   - télécharger Python et jupyter\n",
    "   - voyez-le (et modifiez-le) à [Google Colab](https://colab.research.google.com/?hl=es)  \n",
    "   - visualisez-le sur GitHub s'il y vit déjà\n",
    " - Exportable vers `.html`"
   ]
  }
 ],
 "metadata": {
  "kernelspec": {
   "display_name": "Python 3",
   "language": "python",
   "name": "python3"
  },
  "language_info": {
   "codemirror_mode": {
    "name": "ipython",
    "version": 3
   },
   "file_extension": ".py",
   "mimetype": "text/x-python",
   "name": "python",
   "nbconvert_exporter": "python",
   "pygments_lexer": "ipython3",
   "version": "3.8.10"
  },
  "toc": {
   "base_numbering": 1,
   "nav_menu": {},
   "number_sections": false,
   "sideBar": true,
   "skip_h1_title": true,
   "title_cell": "Table of Contents",
   "title_sidebar": "Contents",
   "toc_cell": false,
   "toc_position": {},
   "toc_section_display": true,
   "toc_window_display": true
  }
 },
 "nbformat": 4,
 "nbformat_minor": 4
}
