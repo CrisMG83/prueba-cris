{
 "cells": [
  {
   "cell_type": "markdown",
   "metadata": {},
   "source": [
    "# Power BI"
   ]
  },
  {
   "cell_type": "markdown",
   "metadata": {},
   "source": [
    "<table>\n",
    "    <tr>\n",
    "        <td><img width=200 src=\"https://upload.wikimedia.org/wikipedia/commons/thumb/5/51/IBM_logo.svg/800px-IBM_logo.svg.png\"></td>\n",
    "        <td><img width=200 src=\"https://skillup.online/_next/static/media/Logo.c31d02e9.svg\"></td>\n",
    "    </tr>\n",
    "<table>\n"
   ]
  },
  {
   "cell_type": "markdown",
   "metadata": {},
   "source": [
    "<div style=\"text-align: right\"><a>por </a><a href=\"https://www.linkedin.com/in/sheriff-data/\">Manuel López Sheriff</a></div>"
   ]
  },
  {
   "cell_type": "markdown",
   "metadata": {
    "toc": true
   },
   "source": [
    "<h1>Table of Contents<span class=\"tocSkip\"></span></h1>\n",
    "<div class=\"toc\"><ul class=\"toc-item\"><li><span><a href=\"#Previo:-el-modelo-relacional-de-datos\" data-toc-modified-id=\"Previo:-el-modelo-relacional-de-datos-1\"><span class=\"toc-item-num\">1&nbsp;&nbsp;</span>Previo: el modelo relacional de datos</a></span><ul class=\"toc-item\"><li><span><a href=\"#Introducción\" data-toc-modified-id=\"Introducción-1.1\"><span class=\"toc-item-num\">1.1&nbsp;&nbsp;</span>Introducción</a></span></li><li><span><a href=\"#SQL\" data-toc-modified-id=\"SQL-1.2\"><span class=\"toc-item-num\">1.2&nbsp;&nbsp;</span>SQL</a></span></li><li><span><a href=\"#Relaciones\" data-toc-modified-id=\"Relaciones-1.3\"><span class=\"toc-item-num\">1.3&nbsp;&nbsp;</span>Relaciones</a></span><ul class=\"toc-item\"><li><span><a href=\"#Inner-join\" data-toc-modified-id=\"Inner-join-1.3.1\"><span class=\"toc-item-num\">1.3.1&nbsp;&nbsp;</span>Inner join</a></span></li><li><span><a href=\"#Left-join\" data-toc-modified-id=\"Left-join-1.3.2\"><span class=\"toc-item-num\">1.3.2&nbsp;&nbsp;</span>Left join</a></span></li><li><span><a href=\"#Right-join\" data-toc-modified-id=\"Right-join-1.3.3\"><span class=\"toc-item-num\">1.3.3&nbsp;&nbsp;</span>Right join</a></span></li><li><span><a href=\"#Outer-join\" data-toc-modified-id=\"Outer-join-1.3.4\"><span class=\"toc-item-num\">1.3.4&nbsp;&nbsp;</span>Outer join</a></span></li></ul></li></ul></li><li><span><a href=\"#NoSQL\" data-toc-modified-id=\"NoSQL-2\"><span class=\"toc-item-num\">2&nbsp;&nbsp;</span>NoSQL</a></span></li><li><span><a href=\"#PowerBI\" data-toc-modified-id=\"PowerBI-3\"><span class=\"toc-item-num\">3&nbsp;&nbsp;</span>PowerBI</a></span><ul class=\"toc-item\"><li><span><a href=\"#Interfaz\" data-toc-modified-id=\"Interfaz-3.1\"><span class=\"toc-item-num\">3.1&nbsp;&nbsp;</span>Interfaz</a></span></li><li><span><a href=\"#Visualizaciones\" data-toc-modified-id=\"Visualizaciones-3.2\"><span class=\"toc-item-num\">3.2&nbsp;&nbsp;</span>Visualizaciones</a></span></li><li><span><a href=\"#Transformaciones-de-datos\" data-toc-modified-id=\"Transformaciones-de-datos-3.3\"><span class=\"toc-item-num\">3.3&nbsp;&nbsp;</span>Transformaciones de datos</a></span><ul class=\"toc-item\"><li><span><a href=\"#Power-Query\" data-toc-modified-id=\"Power-Query-3.3.1\"><span class=\"toc-item-num\">3.3.1&nbsp;&nbsp;</span>Power Query</a></span></li></ul></li></ul></li></ul></div>"
   ]
  },
  {
   "cell_type": "markdown",
   "metadata": {},
   "source": [
    "<img width=400 src=\"https://logos-world.net/wp-content/uploads/2022/02/Microsoft-Power-BI-Symbol.png\">"
   ]
  },
  {
   "cell_type": "markdown",
   "metadata": {},
   "source": [
    "## Previo: el modelo relacional de datos"
   ]
  },
  {
   "cell_type": "markdown",
   "metadata": {},
   "source": [
    "Universal, anterior a PowerBI"
   ]
  },
  {
   "cell_type": "markdown",
   "metadata": {},
   "source": [
    "**Motivación**: cómo almacenarías la información de 5 clientes de un banco? Debes registar\n",
    " - información personal\n",
    " - información de cuentas bancarias,\n",
    " - información de sus transacciones"
   ]
  },
  {
   "cell_type": "markdown",
   "metadata": {},
   "source": [
    "### Introducción"
   ]
  },
  {
   "cell_type": "markdown",
   "metadata": {},
   "source": [
    "En 1970, el Dr. E. F. Codd, del laboratorio de investigación de **IBM**, publicó un artículo titulado \"A Relational Model of Data for Large Shared Data Banks\" (Un modelo relacional de datos para grandes bancos de datos compartidos)  \n",
    "\n",
    "En él proponía que los datos se pueden representar eficazmente en un conjunto de tablas, estableciendo relaciones entre algunos de sus campos"
   ]
  },
  {
   "cell_type": "markdown",
   "metadata": {},
   "source": [
    "Surgen así las bases de datos relacionales"
   ]
  },
  {
   "cell_type": "code",
   "execution_count": null,
   "metadata": {},
   "outputs": [],
   "source": []
  },
  {
   "cell_type": "code",
   "execution_count": null,
   "metadata": {},
   "outputs": [],
   "source": []
  },
  {
   "cell_type": "code",
   "execution_count": null,
   "metadata": {},
   "outputs": [],
   "source": []
  },
  {
   "cell_type": "code",
   "execution_count": null,
   "metadata": {},
   "outputs": [],
   "source": []
  },
  {
   "cell_type": "code",
   "execution_count": null,
   "metadata": {},
   "outputs": [],
   "source": []
  },
  {
   "cell_type": "code",
   "execution_count": null,
   "metadata": {},
   "outputs": [],
   "source": []
  },
  {
   "cell_type": "code",
   "execution_count": null,
   "metadata": {},
   "outputs": [],
   "source": []
  },
  {
   "cell_type": "markdown",
   "metadata": {},
   "source": [
    "<img width=500 src=\"https://www.oreilly.com/api/v2/epubs/9781492057604/files/assets/lsq3_0103.png\">"
   ]
  },
  {
   "cell_type": "markdown",
   "metadata": {},
   "source": [
    "La imagen muestra cuatro tablas: clientes, cuentas, productos y transacciones\n",
    "\n",
    "En general, cada tabla de una base de datos relacional incluye una clave primaria, única en la tabla y que identifica a la fila correspondiente\n",
    "\n",
    "Cada fila tiene también información adicional necesaria para describir a la entidad\n",
    "\n",
    "Observaciones:\n",
    " - en la tabla **Customer**, la columna **cust_id** es clave primaria: contiene un valor diferente para cada cliente\n",
    " - en la tabla **Customer** puede haber más de un George Blake\n",
    " - en la tabla **Account**, la columna **account_id** es clave primaria: contiene un valor diferente para cada cuenta\n",
    " - en la tabla **Account**, la columna **cust_id** tiene valores repetidos, conectados con el cliente correspondiente\n"
   ]
  },
  {
   "cell_type": "markdown",
   "metadata": {},
   "source": [
    "[¿Por qué no debemos usar excel como base de datos?](https://www.bbc.com/news/technology-54423988)"
   ]
  },
  {
   "cell_type": "markdown",
   "metadata": {},
   "source": [
    "### SQL"
   ]
  },
  {
   "cell_type": "markdown",
   "metadata": {},
   "source": [
    "**S**tructured **Q**uery **L**language es un lenguaje de base de datos que se utiliza para:\n",
    " - crear\n",
    " - gestionar\n",
    " - consultar \n",
    "\n",
    "datos de bases de datos relacionales"
   ]
  },
  {
   "cell_type": "markdown",
   "metadata": {},
   "source": [
    "Una consulta sencilla típica tiene la forma:"
   ]
  },
  {
   "cell_type": "markdown",
   "metadata": {},
   "source": [
    "```sql\n",
    "SELECT * \n",
    "FROM Account\n",
    "WHERE balance > 1000\n",
    "```"
   ]
  },
  {
   "cell_type": "markdown",
   "metadata": {},
   "source": [
    "### Relaciones"
   ]
  },
  {
   "cell_type": "markdown",
   "metadata": {},
   "source": [
    "Las relaciones sirven para conectar tablas. \n",
    "\n",
    "Hay que precisar:\n",
    " - las tablas que van a relacionarse\n",
    " - los campos que van a utilizarse para la relación\n",
    " - el tipo de relación"
   ]
  },
  {
   "cell_type": "markdown",
   "metadata": {},
   "source": [
    "<img width=500 src=\"https://i.ibb.co/1McD7X7/join-in-sql-1.png\">"
   ]
  },
  {
   "cell_type": "markdown",
   "metadata": {},
   "source": [
    "Los tipos de relación más utilizados son:\n",
    "\n",
    " - **INNER JOIN**: devuelve los registros que tienen valores coincidentes en ambas tablas     \n",
    " - **LEFT JOIN**: devuelve todos los registros de la tabla izquierda y los registros coincidentes de la tabla derecha    \n",
    " - **RIGHT JOIN**: Devuelve todos los registros de la tabla derecha y los registros coincidentes de la tabla izquierda    \n",
    " - **FULL OUTER JOIN**: Devuelve todos los registros cuando hay una coincidencia en la tabla izquierda o derecha"
   ]
  },
  {
   "cell_type": "markdown",
   "metadata": {},
   "source": [
    "<img width=600 src=\"https://estradawebgroup.com/ImagesUpload/sql-joins.jpg\">"
   ]
  },
  {
   "cell_type": "markdown",
   "metadata": {},
   "source": [
    "**Ejercicio**: dadas estas dos tablas,"
   ]
  },
  {
   "cell_type": "code",
   "execution_count": null,
   "metadata": {},
   "outputs": [],
   "source": [
    "import pandas as pd"
   ]
  },
  {
   "cell_type": "code",
   "execution_count": null,
   "metadata": {},
   "outputs": [],
   "source": [
    "customers = pd.read_csv(\"../datasets/customers_sample.csv\")"
   ]
  },
  {
   "cell_type": "code",
   "execution_count": null,
   "metadata": {},
   "outputs": [],
   "source": [
    "orders = pd.read_csv(\"../datasets/orders_sample.csv\")"
   ]
  },
  {
   "cell_type": "code",
   "execution_count": null,
   "metadata": {},
   "outputs": [],
   "source": [
    "customers"
   ]
  },
  {
   "cell_type": "code",
   "execution_count": null,
   "metadata": {},
   "outputs": [],
   "source": [
    "orders"
   ]
  },
  {
   "cell_type": "markdown",
   "metadata": {},
   "source": [
    "qué resultado obtenemos al relacionar por el campo `customers.customer_id` y `orders.customer` en cada uno de estos casos?\n",
    " - inner join\n",
    " - left join\n",
    " - right join\n",
    " - full outer join"
   ]
  },
  {
   "cell_type": "markdown",
   "metadata": {},
   "source": [
    "#### Inner join"
   ]
  },
  {
   "cell_type": "code",
   "execution_count": null,
   "metadata": {},
   "outputs": [],
   "source": [
    "pd.merge(\n",
    "    left=customers, \n",
    "    right=orders, \n",
    "    left_on=\"customer_id\",\n",
    "    right_on=\"customer\",\n",
    "    how=\"inner\"\n",
    ")"
   ]
  },
  {
   "cell_type": "markdown",
   "metadata": {},
   "source": [
    "#### Left join"
   ]
  },
  {
   "cell_type": "code",
   "execution_count": null,
   "metadata": {},
   "outputs": [],
   "source": [
    "pd.merge(\n",
    "    left=customers, \n",
    "    right=orders, \n",
    "    left_on=\"customer_id\",\n",
    "    right_on=\"customer\",\n",
    "    how=\"left\"\n",
    ")"
   ]
  },
  {
   "cell_type": "markdown",
   "metadata": {},
   "source": [
    "#### Right join"
   ]
  },
  {
   "cell_type": "code",
   "execution_count": null,
   "metadata": {},
   "outputs": [],
   "source": [
    "pd.merge(\n",
    "    left=customers, \n",
    "    right=orders, \n",
    "    left_on=\"customer_id\",\n",
    "    right_on=\"customer\",\n",
    "    how=\"right\"\n",
    ")"
   ]
  },
  {
   "cell_type": "markdown",
   "metadata": {},
   "source": [
    "#### Outer join"
   ]
  },
  {
   "cell_type": "code",
   "execution_count": null,
   "metadata": {},
   "outputs": [],
   "source": [
    "pd.merge(\n",
    "    left=customers, \n",
    "    right=orders, \n",
    "    left_on=\"customer_id\",\n",
    "    right_on=\"customer\",\n",
    "    how=\"outer\"\n",
    ")"
   ]
  },
  {
   "cell_type": "markdown",
   "metadata": {},
   "source": [
    "Funny reminder:"
   ]
  },
  {
   "cell_type": "markdown",
   "metadata": {},
   "source": [
    "<img width=300 src=\"https://external-preview.redd.it/yOLzCR0qSzul2WpjQorxINB0xpU3_N9twmFVsgbGJwQ.jpg?auto=webp&s=4feedc91302ba635b3028a21b98d047def5cdc2b\">"
   ]
  },
  {
   "cell_type": "markdown",
   "metadata": {},
   "source": [
    "En Power BI, establecemos las relaciones en la vista **Model**"
   ]
  },
  {
   "cell_type": "markdown",
   "metadata": {},
   "source": [
    "## NoSQL"
   ]
  },
  {
   "cell_type": "markdown",
   "metadata": {},
   "source": [
    "Existen también bases de datos **no relacionales** (también llamadas NoSQL). Almacenan los datos no en forma tabular, sino en estructuras tipo documento, JSON."
   ]
  },
  {
   "cell_type": "markdown",
   "metadata": {},
   "source": [
    "```json\n",
    "[\n",
    "    {\n",
    "        \"id\": 1,\n",
    "        \"name\": \"John\",\n",
    "        \"age\": 44,\n",
    "        \"sports\":\n",
    "            [\n",
    "                \"soccer\",\n",
    "                \"basket\",\n",
    "                \"volley\"\n",
    "            ],\n",
    "        \"has_children\": 1,\n",
    "    },\n",
    "    {\n",
    "        \"id\": 2,\n",
    "        \"name\": \"Marie\"\n",
    "    },\n",
    "    {\n",
    "        \"id\": 3,\n",
    "        \"name\": \"Jason\",\n",
    "        \"has_children\": 0\n",
    "    }\n",
    "]\n",
    "```"
   ]
  },
  {
   "cell_type": "markdown",
   "metadata": {},
   "source": [
    "Las bases de datos NoSQL se han vuelto muy populares en los últimos años. Tienen ventajas e inconvenientes frente a las relacionales (SQL)"
   ]
  },
  {
   "cell_type": "markdown",
   "metadata": {},
   "source": [
    "## PowerBI"
   ]
  },
  {
   "cell_type": "markdown",
   "metadata": {},
   "source": [
    "Utilizaremos la base de datos (varias tablas) WWI (Wide World Importers)\n",
    "\n",
    "Contienen transacciones de un mayorista a varios comercios minoristas"
   ]
  },
  {
   "cell_type": "markdown",
   "metadata": {},
   "source": [
    "Las tablas principales son:\n",
    " - sales.csv: transacciones\n",
    " - customers.csv: clientes\n",
    " - employees.xlsx: empleados\n",
    " - cities.csv: regiones\n",
    " - dates.csv: fechas\n",
    " - stock.csv: productos"
   ]
  },
  {
   "cell_type": "markdown",
   "metadata": {},
   "source": [
    "### Interfaz"
   ]
  },
  {
   "cell_type": "markdown",
   "metadata": {},
   "source": [
    "Hay 3 vistas\n",
    " - Report: aquí montamos nuestros dashboards. Tiene varias páginas\n",
    " - Data: aquí exploramos el detalle del dato\n",
    " - Model: aquí determinamos las relaciones entre tablas"
   ]
  },
  {
   "cell_type": "markdown",
   "metadata": {},
   "source": [
    "### Visualizaciones"
   ]
  },
  {
   "cell_type": "markdown",
   "metadata": {},
   "source": [
    "Algunos de los gráficos más comunes en PowerBI son:"
   ]
  },
  {
   "cell_type": "markdown",
   "metadata": {},
   "source": [
    " - Column Chart\n",
    " - Card\n",
    " - Slicer\n",
    " - Table"
   ]
  },
  {
   "cell_type": "markdown",
   "metadata": {},
   "source": [
    "### Transformaciones de datos"
   ]
  },
  {
   "cell_type": "markdown",
   "metadata": {},
   "source": [
    "Como analistas de datos, a veces queremos:  \n",
    "  * Obviar columnas\n",
    "  * Formatear adecuadamente una columna\n",
    "  * Añadir o eliminar caracteres\n",
    "  * Tratar valores nulos\n",
    "  * Limitar el número de filas\n",
    "  * etc..."
   ]
  },
  {
   "cell_type": "markdown",
   "metadata": {},
   "source": [
    "#### Power Query"
   ]
  },
  {
   "cell_type": "markdown",
   "metadata": {},
   "source": [
    "Se trata de una pestaña independiente que utilizamos para **preprocesar antes de cargar** datos\n",
    "\n",
    "Utiliza el lenguaje M, aunque no es preciso dominarlo para poder preprocesar\n",
    "\n",
    "Siempre debemos **close and apply** para efectuar nuestros cambios"
   ]
  },
  {
   "cell_type": "markdown",
   "metadata": {},
   "source": [
    "Algunas features muy utilizadas son:\n",
    " - Change type\n",
    " - Remove rows\n",
    " - Use first row as header\n",
    " - Remove columns"
   ]
  }
 ],
 "metadata": {
  "kernelspec": {
   "display_name": "Python 3",
   "language": "python",
   "name": "python3"
  },
  "language_info": {
   "codemirror_mode": {
    "name": "ipython",
    "version": 3
   },
   "file_extension": ".py",
   "mimetype": "text/x-python",
   "name": "python",
   "nbconvert_exporter": "python",
   "pygments_lexer": "ipython3",
   "version": "3.8.10"
  },
  "toc": {
   "base_numbering": 1,
   "nav_menu": {},
   "number_sections": true,
   "sideBar": true,
   "skip_h1_title": true,
   "title_cell": "Table of Contents",
   "title_sidebar": "Contents",
   "toc_cell": true,
   "toc_position": {
    "height": "calc(100% - 180px)",
    "left": "10px",
    "top": "150px",
    "width": "341.333px"
   },
   "toc_section_display": true,
   "toc_window_display": true
  }
 },
 "nbformat": 4,
 "nbformat_minor": 4
}
